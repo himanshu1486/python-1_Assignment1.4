{
 "cells": [
  {
   "cell_type": "code",
   "execution_count": 6,
   "metadata": {},
   "outputs": [
    {
     "name": "stdout",
     "output_type": "stream",
     "text": [
      "Volume of Sphere is  904.7779199999999\n"
     ]
    }
   ],
   "source": [
    "c_Diameter= 12\n",
    "pi = 3.14159\n",
    "c_Radius = c_Diameter/2\n",
    "c_Volume = 4.0/3.0*pi*c_Radius*c_Radius*c_Radius\n",
    "print(\"Volume of Sphere is \",c_Volume)\n"
   ]
  },
  {
   "cell_type": "code",
   "execution_count": null,
   "metadata": {},
   "outputs": [],
   "source": []
  }
 ],
 "metadata": {
  "kernelspec": {
   "display_name": "Python 3",
   "language": "python",
   "name": "python3"
  },
  "language_info": {
   "codemirror_mode": {
    "name": "ipython",
    "version": 3
   },
   "file_extension": ".py",
   "mimetype": "text/x-python",
   "name": "python",
   "nbconvert_exporter": "python",
   "pygments_lexer": "ipython3",
   "version": "3.6.4"
  }
 },
 "nbformat": 4,
 "nbformat_minor": 2
}
